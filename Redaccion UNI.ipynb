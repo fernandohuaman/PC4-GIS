{
 "cells": [
  {
   "cell_type": "code",
   "execution_count": 2,
   "metadata": {},
   "outputs": [],
   "source": [
    "#pip install pyshp\n",
    "#pip install pandas\n",
    "#pip install networkx"
   ]
  },
  {
   "cell_type": "code",
   "execution_count": 3,
   "metadata": {},
   "outputs": [],
   "source": [
    "import shapefile\n",
    "import pandas as pd\n",
    "import math\n",
    "import numpy as np\n",
    "import networkx as nx\n",
    "import matplotlib.pyplot as plt"
   ]
  },
  {
   "cell_type": "code",
   "execution_count": 4,
   "metadata": {},
   "outputs": [
    {
     "data": {
      "text/plain": [
       "Series([], Name: ID, dtype: int32)"
      ]
     },
     "execution_count": 4,
     "metadata": {},
     "output_type": "execute_result"
    }
   ],
   "source": [
    "df = pd.DataFrame(columns=['ID','COORDENADA_X','COORDENADA_Y'])\n",
    "df['ID'].astype(int)"
   ]
  },
  {
   "cell_type": "code",
   "execution_count": 5,
   "metadata": {},
   "outputs": [],
   "source": [
    "shape = shapefile.Reader(\"./GIS-UNI/Capa de Cruces.shp\")\n",
    "feature = shape.shapeRecords()\n",
    "for x in range(25):\n",
    "    feature = shape.shapeRecords()[x]\n",
    "    record = feature.shape.__geo_interface__\n",
    "    df.loc[x] = [int(x),record['coordinates'][0],record['coordinates'][1]]"
   ]
  },
  {
   "cell_type": "code",
   "execution_count": 6,
   "metadata": {},
   "outputs": [
    {
     "data": {
      "text/html": [
       "<div>\n",
       "<style scoped>\n",
       "    .dataframe tbody tr th:only-of-type {\n",
       "        vertical-align: middle;\n",
       "    }\n",
       "\n",
       "    .dataframe tbody tr th {\n",
       "        vertical-align: top;\n",
       "    }\n",
       "\n",
       "    .dataframe thead th {\n",
       "        text-align: right;\n",
       "    }\n",
       "</style>\n",
       "<table border=\"1\" class=\"dataframe\">\n",
       "  <thead>\n",
       "    <tr style=\"text-align: right;\">\n",
       "      <th></th>\n",
       "      <th>ID</th>\n",
       "      <th>COORDENADA_X</th>\n",
       "      <th>COORDENADA_Y</th>\n",
       "    </tr>\n",
       "  </thead>\n",
       "  <tbody>\n",
       "    <tr>\n",
       "      <th>0</th>\n",
       "      <td>0.0</td>\n",
       "      <td>-77.050948</td>\n",
       "      <td>-12.017963</td>\n",
       "    </tr>\n",
       "    <tr>\n",
       "      <th>1</th>\n",
       "      <td>1.0</td>\n",
       "      <td>-77.049572</td>\n",
       "      <td>-12.017713</td>\n",
       "    </tr>\n",
       "    <tr>\n",
       "      <th>2</th>\n",
       "      <td>2.0</td>\n",
       "      <td>-77.050493</td>\n",
       "      <td>-12.017464</td>\n",
       "    </tr>\n",
       "    <tr>\n",
       "      <th>3</th>\n",
       "      <td>3.0</td>\n",
       "      <td>-77.049572</td>\n",
       "      <td>-12.017459</td>\n",
       "    </tr>\n",
       "    <tr>\n",
       "      <th>4</th>\n",
       "      <td>4.0</td>\n",
       "      <td>-77.050466</td>\n",
       "      <td>-12.016397</td>\n",
       "    </tr>\n",
       "    <tr>\n",
       "      <th>5</th>\n",
       "      <td>5.0</td>\n",
       "      <td>-77.049555</td>\n",
       "      <td>-12.016408</td>\n",
       "    </tr>\n",
       "    <tr>\n",
       "      <th>6</th>\n",
       "      <td>6.0</td>\n",
       "      <td>-77.051034</td>\n",
       "      <td>-12.016386</td>\n",
       "    </tr>\n",
       "    <tr>\n",
       "      <th>7</th>\n",
       "      <td>7.0</td>\n",
       "      <td>-77.048880</td>\n",
       "      <td>-12.017600</td>\n",
       "    </tr>\n",
       "    <tr>\n",
       "      <th>8</th>\n",
       "      <td>8.0</td>\n",
       "      <td>-77.049579</td>\n",
       "      <td>-12.019025</td>\n",
       "    </tr>\n",
       "    <tr>\n",
       "      <th>9</th>\n",
       "      <td>9.0</td>\n",
       "      <td>-77.049368</td>\n",
       "      <td>-12.019301</td>\n",
       "    </tr>\n",
       "    <tr>\n",
       "      <th>10</th>\n",
       "      <td>10.0</td>\n",
       "      <td>-77.049373</td>\n",
       "      <td>-12.019891</td>\n",
       "    </tr>\n",
       "    <tr>\n",
       "      <th>11</th>\n",
       "      <td>11.0</td>\n",
       "      <td>-77.048355</td>\n",
       "      <td>-12.019891</td>\n",
       "    </tr>\n",
       "    <tr>\n",
       "      <th>12</th>\n",
       "      <td>12.0</td>\n",
       "      <td>-77.047737</td>\n",
       "      <td>-12.019891</td>\n",
       "    </tr>\n",
       "    <tr>\n",
       "      <th>13</th>\n",
       "      <td>13.0</td>\n",
       "      <td>-77.049438</td>\n",
       "      <td>-12.021029</td>\n",
       "    </tr>\n",
       "    <tr>\n",
       "      <th>14</th>\n",
       "      <td>14.0</td>\n",
       "      <td>-77.049433</td>\n",
       "      <td>-12.021511</td>\n",
       "    </tr>\n",
       "    <tr>\n",
       "      <th>15</th>\n",
       "      <td>15.0</td>\n",
       "      <td>-77.048393</td>\n",
       "      <td>-12.021018</td>\n",
       "    </tr>\n",
       "    <tr>\n",
       "      <th>16</th>\n",
       "      <td>16.0</td>\n",
       "      <td>-77.048382</td>\n",
       "      <td>-12.021620</td>\n",
       "    </tr>\n",
       "    <tr>\n",
       "      <th>17</th>\n",
       "      <td>17.0</td>\n",
       "      <td>-77.049465</td>\n",
       "      <td>-12.021885</td>\n",
       "    </tr>\n",
       "    <tr>\n",
       "      <th>18</th>\n",
       "      <td>18.0</td>\n",
       "      <td>-77.049482</td>\n",
       "      <td>-12.022308</td>\n",
       "    </tr>\n",
       "    <tr>\n",
       "      <th>19</th>\n",
       "      <td>19.0</td>\n",
       "      <td>-77.048691</td>\n",
       "      <td>-12.023018</td>\n",
       "    </tr>\n",
       "    <tr>\n",
       "      <th>20</th>\n",
       "      <td>20.0</td>\n",
       "      <td>-77.047764</td>\n",
       "      <td>-12.022459</td>\n",
       "    </tr>\n",
       "    <tr>\n",
       "      <th>21</th>\n",
       "      <td>21.0</td>\n",
       "      <td>-77.047764</td>\n",
       "      <td>-12.023072</td>\n",
       "    </tr>\n",
       "    <tr>\n",
       "      <th>22</th>\n",
       "      <td>22.0</td>\n",
       "      <td>-77.047759</td>\n",
       "      <td>-12.023700</td>\n",
       "    </tr>\n",
       "    <tr>\n",
       "      <th>23</th>\n",
       "      <td>23.0</td>\n",
       "      <td>-77.047764</td>\n",
       "      <td>-12.024215</td>\n",
       "    </tr>\n",
       "    <tr>\n",
       "      <th>24</th>\n",
       "      <td>24.0</td>\n",
       "      <td>-77.048111</td>\n",
       "      <td>-12.024518</td>\n",
       "    </tr>\n",
       "  </tbody>\n",
       "</table>\n",
       "</div>"
      ],
      "text/plain": [
       "      ID  COORDENADA_X  COORDENADA_Y\n",
       "0    0.0    -77.050948    -12.017963\n",
       "1    1.0    -77.049572    -12.017713\n",
       "2    2.0    -77.050493    -12.017464\n",
       "3    3.0    -77.049572    -12.017459\n",
       "4    4.0    -77.050466    -12.016397\n",
       "5    5.0    -77.049555    -12.016408\n",
       "6    6.0    -77.051034    -12.016386\n",
       "7    7.0    -77.048880    -12.017600\n",
       "8    8.0    -77.049579    -12.019025\n",
       "9    9.0    -77.049368    -12.019301\n",
       "10  10.0    -77.049373    -12.019891\n",
       "11  11.0    -77.048355    -12.019891\n",
       "12  12.0    -77.047737    -12.019891\n",
       "13  13.0    -77.049438    -12.021029\n",
       "14  14.0    -77.049433    -12.021511\n",
       "15  15.0    -77.048393    -12.021018\n",
       "16  16.0    -77.048382    -12.021620\n",
       "17  17.0    -77.049465    -12.021885\n",
       "18  18.0    -77.049482    -12.022308\n",
       "19  19.0    -77.048691    -12.023018\n",
       "20  20.0    -77.047764    -12.022459\n",
       "21  21.0    -77.047764    -12.023072\n",
       "22  22.0    -77.047759    -12.023700\n",
       "23  23.0    -77.047764    -12.024215\n",
       "24  24.0    -77.048111    -12.024518"
      ]
     },
     "execution_count": 6,
     "metadata": {},
     "output_type": "execute_result"
    }
   ],
   "source": [
    "df"
   ]
  },
  {
   "cell_type": "code",
   "execution_count": 37,
   "metadata": {},
   "outputs": [],
   "source": [
    "rutas = [[1,2],[2,8],[1,3],[3,4],[2,4],[3,5],[5,6],[5,7],[4,6],\n",
    "        [16,17],[16,12],[16,14],[14,11],[11,12],[12,13],[11,10],[9,10],[2,9],\n",
    "        [14,15],[15,18],[18,19],[17,21],[19,20],[20,23],[21,22],[20,23],[22,23],[23,24],[24,25]]"
   ]
  },
  {
   "cell_type": "code",
   "execution_count": 38,
   "metadata": {},
   "outputs": [],
   "source": [
    "disdf = pd.DataFrame(columns=['ID','NODO_1','NODO_2','DISTANCIA'])"
   ]
  },
  {
   "cell_type": "code",
   "execution_count": 39,
   "metadata": {},
   "outputs": [],
   "source": [
    "facdf = pd.DataFrame(columns=['NODO','FACULTAD'])\n",
    "facdf.loc[0] = [5,'FIIS']\n",
    "facdf.loc[1] = [7,'PETROLEO']\n",
    "facdf.loc[2] = [6,'FIIS']\n",
    "facdf.loc[3] = [4,'FIEE']\n",
    "facdf.loc[4] = [8,'FIEE']\n",
    "facdf.loc[5] = [3,'CIENCIA']\n",
    "facdf.loc[6] = [1,'PUERTA 5']\n",
    "facdf.loc[7] = [10,'FIECS']\n",
    "facdf.loc[8] = [13,'MINERA']\n",
    "facdf.loc[9] = [15,'FAUA']\n",
    "facdf.loc[10] = [18,'FIC']\n",
    "facdf.loc[11] = [17,'TEXTIL']\n",
    "facdf.loc[12] = [20,'FPPQ']\n",
    "facdf.loc[13] = [22,'FIQT']\n",
    "facdf.loc[14] = [24,'FIM']\n",
    "facdf.loc[15] = [25,'PUERTA 3']"
   ]
  },
  {
   "cell_type": "code",
   "execution_count": 10,
   "metadata": {},
   "outputs": [
    {
     "data": {
      "text/html": [
       "<div>\n",
       "<style scoped>\n",
       "    .dataframe tbody tr th:only-of-type {\n",
       "        vertical-align: middle;\n",
       "    }\n",
       "\n",
       "    .dataframe tbody tr th {\n",
       "        vertical-align: top;\n",
       "    }\n",
       "\n",
       "    .dataframe thead th {\n",
       "        text-align: right;\n",
       "    }\n",
       "</style>\n",
       "<table border=\"1\" class=\"dataframe\">\n",
       "  <thead>\n",
       "    <tr style=\"text-align: right;\">\n",
       "      <th></th>\n",
       "      <th>NODO</th>\n",
       "      <th>FACULTAD</th>\n",
       "    </tr>\n",
       "  </thead>\n",
       "  <tbody>\n",
       "    <tr>\n",
       "      <th>0</th>\n",
       "      <td>5</td>\n",
       "      <td>FIIS</td>\n",
       "    </tr>\n",
       "    <tr>\n",
       "      <th>1</th>\n",
       "      <td>7</td>\n",
       "      <td>PETROLEO</td>\n",
       "    </tr>\n",
       "    <tr>\n",
       "      <th>2</th>\n",
       "      <td>6</td>\n",
       "      <td>FIIS</td>\n",
       "    </tr>\n",
       "    <tr>\n",
       "      <th>3</th>\n",
       "      <td>4</td>\n",
       "      <td>FIEE</td>\n",
       "    </tr>\n",
       "    <tr>\n",
       "      <th>4</th>\n",
       "      <td>8</td>\n",
       "      <td>FIEE</td>\n",
       "    </tr>\n",
       "  </tbody>\n",
       "</table>\n",
       "</div>"
      ],
      "text/plain": [
       "   NODO  FACULTAD\n",
       "0     5      FIIS\n",
       "1     7  PETROLEO\n",
       "2     6      FIIS\n",
       "3     4      FIEE\n",
       "4     8      FIEE"
      ]
     },
     "execution_count": 10,
     "metadata": {},
     "output_type": "execute_result"
    }
   ],
   "source": [
    "facdf.head(5)"
   ]
  },
  {
   "cell_type": "code",
   "execution_count": 40,
   "metadata": {},
   "outputs": [],
   "source": [
    "orden = -1\n",
    "for x in rutas:\n",
    "    orden = orden + 1\n",
    "    n1 = x[0]-1\n",
    "    n2 = x[1]-1\n",
    "    distancia = math.sqrt(math.pow(df['COORDENADA_Y'][n1] - df['COORDENADA_Y'][n2],2) + math.pow(df['COORDENADA_X'][n1] - df['COORDENADA_X'][n2],2))\n",
    "    disdf.loc[orden] = [orden,n1+1,n2+1,distancia*5000]"
   ]
  },
  {
   "cell_type": "code",
   "execution_count": 41,
   "metadata": {},
   "outputs": [
    {
     "data": {
      "text/html": [
       "<div>\n",
       "<style scoped>\n",
       "    .dataframe tbody tr th:only-of-type {\n",
       "        vertical-align: middle;\n",
       "    }\n",
       "\n",
       "    .dataframe tbody tr th {\n",
       "        vertical-align: top;\n",
       "    }\n",
       "\n",
       "    .dataframe thead th {\n",
       "        text-align: right;\n",
       "    }\n",
       "</style>\n",
       "<table border=\"1\" class=\"dataframe\">\n",
       "  <thead>\n",
       "    <tr style=\"text-align: right;\">\n",
       "      <th></th>\n",
       "      <th>ID</th>\n",
       "      <th>NODO_1</th>\n",
       "      <th>NODO_2</th>\n",
       "      <th>DISTANCIA</th>\n",
       "    </tr>\n",
       "  </thead>\n",
       "  <tbody>\n",
       "    <tr>\n",
       "      <th>0</th>\n",
       "      <td>0.0</td>\n",
       "      <td>1.0</td>\n",
       "      <td>2.0</td>\n",
       "      <td>6.992626</td>\n",
       "    </tr>\n",
       "    <tr>\n",
       "      <th>1</th>\n",
       "      <td>1.0</td>\n",
       "      <td>2.0</td>\n",
       "      <td>8.0</td>\n",
       "      <td>3.503771</td>\n",
       "    </tr>\n",
       "    <tr>\n",
       "      <th>2</th>\n",
       "      <td>2.0</td>\n",
       "      <td>1.0</td>\n",
       "      <td>3.0</td>\n",
       "      <td>3.374775</td>\n",
       "    </tr>\n",
       "    <tr>\n",
       "      <th>3</th>\n",
       "      <td>3.0</td>\n",
       "      <td>3.0</td>\n",
       "      <td>4.0</td>\n",
       "      <td>4.605273</td>\n",
       "    </tr>\n",
       "    <tr>\n",
       "      <th>4</th>\n",
       "      <td>4.0</td>\n",
       "      <td>2.0</td>\n",
       "      <td>4.0</td>\n",
       "      <td>1.273200</td>\n",
       "    </tr>\n",
       "    <tr>\n",
       "      <th>5</th>\n",
       "      <td>5.0</td>\n",
       "      <td>3.0</td>\n",
       "      <td>5.0</td>\n",
       "      <td>5.338324</td>\n",
       "    </tr>\n",
       "    <tr>\n",
       "      <th>6</th>\n",
       "      <td>6.0</td>\n",
       "      <td>5.0</td>\n",
       "      <td>6.0</td>\n",
       "      <td>4.551337</td>\n",
       "    </tr>\n",
       "    <tr>\n",
       "      <th>7</th>\n",
       "      <td>7.0</td>\n",
       "      <td>5.0</td>\n",
       "      <td>7.0</td>\n",
       "      <td>2.844900</td>\n",
       "    </tr>\n",
       "    <tr>\n",
       "      <th>8</th>\n",
       "      <td>8.0</td>\n",
       "      <td>4.0</td>\n",
       "      <td>6.0</td>\n",
       "      <td>5.255966</td>\n",
       "    </tr>\n",
       "    <tr>\n",
       "      <th>9</th>\n",
       "      <td>9.0</td>\n",
       "      <td>16.0</td>\n",
       "      <td>17.0</td>\n",
       "      <td>3.007408</td>\n",
       "    </tr>\n",
       "    <tr>\n",
       "      <th>10</th>\n",
       "      <td>10.0</td>\n",
       "      <td>16.0</td>\n",
       "      <td>12.0</td>\n",
       "      <td>5.637779</td>\n",
       "    </tr>\n",
       "    <tr>\n",
       "      <th>11</th>\n",
       "      <td>11.0</td>\n",
       "      <td>16.0</td>\n",
       "      <td>14.0</td>\n",
       "      <td>5.228529</td>\n",
       "    </tr>\n",
       "    <tr>\n",
       "      <th>12</th>\n",
       "      <td>12.0</td>\n",
       "      <td>14.0</td>\n",
       "      <td>11.0</td>\n",
       "      <td>5.698048</td>\n",
       "    </tr>\n",
       "    <tr>\n",
       "      <th>13</th>\n",
       "      <td>13.0</td>\n",
       "      <td>11.0</td>\n",
       "      <td>12.0</td>\n",
       "      <td>5.092802</td>\n",
       "    </tr>\n",
       "    <tr>\n",
       "      <th>14</th>\n",
       "      <td>14.0</td>\n",
       "      <td>12.0</td>\n",
       "      <td>13.0</td>\n",
       "      <td>3.088188</td>\n",
       "    </tr>\n",
       "    <tr>\n",
       "      <th>15</th>\n",
       "      <td>15.0</td>\n",
       "      <td>11.0</td>\n",
       "      <td>10.0</td>\n",
       "      <td>2.952866</td>\n",
       "    </tr>\n",
       "    <tr>\n",
       "      <th>16</th>\n",
       "      <td>16.0</td>\n",
       "      <td>9.0</td>\n",
       "      <td>10.0</td>\n",
       "      <td>1.739213</td>\n",
       "    </tr>\n",
       "    <tr>\n",
       "      <th>17</th>\n",
       "      <td>17.0</td>\n",
       "      <td>2.0</td>\n",
       "      <td>9.0</td>\n",
       "      <td>6.555733</td>\n",
       "    </tr>\n",
       "    <tr>\n",
       "      <th>18</th>\n",
       "      <td>18.0</td>\n",
       "      <td>14.0</td>\n",
       "      <td>15.0</td>\n",
       "      <td>2.411106</td>\n",
       "    </tr>\n",
       "    <tr>\n",
       "      <th>19</th>\n",
       "      <td>19.0</td>\n",
       "      <td>15.0</td>\n",
       "      <td>18.0</td>\n",
       "      <td>1.876220</td>\n",
       "    </tr>\n",
       "    <tr>\n",
       "      <th>20</th>\n",
       "      <td>20.0</td>\n",
       "      <td>18.0</td>\n",
       "      <td>19.0</td>\n",
       "      <td>2.114533</td>\n",
       "    </tr>\n",
       "    <tr>\n",
       "      <th>21</th>\n",
       "      <td>21.0</td>\n",
       "      <td>17.0</td>\n",
       "      <td>21.0</td>\n",
       "      <td>5.212223</td>\n",
       "    </tr>\n",
       "    <tr>\n",
       "      <th>22</th>\n",
       "      <td>22.0</td>\n",
       "      <td>19.0</td>\n",
       "      <td>20.0</td>\n",
       "      <td>5.313730</td>\n",
       "    </tr>\n",
       "    <tr>\n",
       "      <th>23</th>\n",
       "      <td>23.0</td>\n",
       "      <td>20.0</td>\n",
       "      <td>23.0</td>\n",
       "      <td>5.775820</td>\n",
       "    </tr>\n",
       "    <tr>\n",
       "      <th>24</th>\n",
       "      <td>24.0</td>\n",
       "      <td>21.0</td>\n",
       "      <td>22.0</td>\n",
       "      <td>3.061099</td>\n",
       "    </tr>\n",
       "    <tr>\n",
       "      <th>25</th>\n",
       "      <td>25.0</td>\n",
       "      <td>20.0</td>\n",
       "      <td>23.0</td>\n",
       "      <td>5.775820</td>\n",
       "    </tr>\n",
       "    <tr>\n",
       "      <th>26</th>\n",
       "      <td>26.0</td>\n",
       "      <td>22.0</td>\n",
       "      <td>23.0</td>\n",
       "      <td>3.142484</td>\n",
       "    </tr>\n",
       "    <tr>\n",
       "      <th>27</th>\n",
       "      <td>27.0</td>\n",
       "      <td>23.0</td>\n",
       "      <td>24.0</td>\n",
       "      <td>2.573633</td>\n",
       "    </tr>\n",
       "    <tr>\n",
       "      <th>28</th>\n",
       "      <td>28.0</td>\n",
       "      <td>24.0</td>\n",
       "      <td>25.0</td>\n",
       "      <td>2.303712</td>\n",
       "    </tr>\n",
       "  </tbody>\n",
       "</table>\n",
       "</div>"
      ],
      "text/plain": [
       "      ID  NODO_1  NODO_2  DISTANCIA\n",
       "0    0.0     1.0     2.0   6.992626\n",
       "1    1.0     2.0     8.0   3.503771\n",
       "2    2.0     1.0     3.0   3.374775\n",
       "3    3.0     3.0     4.0   4.605273\n",
       "4    4.0     2.0     4.0   1.273200\n",
       "5    5.0     3.0     5.0   5.338324\n",
       "6    6.0     5.0     6.0   4.551337\n",
       "7    7.0     5.0     7.0   2.844900\n",
       "8    8.0     4.0     6.0   5.255966\n",
       "9    9.0    16.0    17.0   3.007408\n",
       "10  10.0    16.0    12.0   5.637779\n",
       "11  11.0    16.0    14.0   5.228529\n",
       "12  12.0    14.0    11.0   5.698048\n",
       "13  13.0    11.0    12.0   5.092802\n",
       "14  14.0    12.0    13.0   3.088188\n",
       "15  15.0    11.0    10.0   2.952866\n",
       "16  16.0     9.0    10.0   1.739213\n",
       "17  17.0     2.0     9.0   6.555733\n",
       "18  18.0    14.0    15.0   2.411106\n",
       "19  19.0    15.0    18.0   1.876220\n",
       "20  20.0    18.0    19.0   2.114533\n",
       "21  21.0    17.0    21.0   5.212223\n",
       "22  22.0    19.0    20.0   5.313730\n",
       "23  23.0    20.0    23.0   5.775820\n",
       "24  24.0    21.0    22.0   3.061099\n",
       "25  25.0    20.0    23.0   5.775820\n",
       "26  26.0    22.0    23.0   3.142484\n",
       "27  27.0    23.0    24.0   2.573633\n",
       "28  28.0    24.0    25.0   2.303712"
      ]
     },
     "execution_count": 41,
     "metadata": {},
     "output_type": "execute_result"
    }
   ],
   "source": [
    "disdf"
   ]
  },
  {
   "cell_type": "code",
   "execution_count": 42,
   "metadata": {},
   "outputs": [],
   "source": [
    "croquis=nx.from_pandas_edgelist(disdf,source='NODO_1',target='NODO_2',edge_attr='DISTANCIA')"
   ]
  },
  {
   "cell_type": "code",
   "execution_count": 43,
   "metadata": {},
   "outputs": [
    {
     "data": {
      "text/plain": [
       "NodeView((1.0, 2.0, 8.0, 3.0, 4.0, 5.0, 6.0, 7.0, 16.0, 17.0, 12.0, 14.0, 11.0, 13.0, 10.0, 9.0, 15.0, 18.0, 19.0, 21.0, 20.0, 23.0, 22.0, 24.0, 25.0))"
      ]
     },
     "execution_count": 43,
     "metadata": {},
     "output_type": "execute_result"
    }
   ],
   "source": [
    "croquis.nodes()"
   ]
  },
  {
   "cell_type": "code",
   "execution_count": 44,
   "metadata": {},
   "outputs": [
    {
     "data": {
      "text/plain": [
       "EdgeView([(1.0, 2.0), (1.0, 3.0), (2.0, 8.0), (2.0, 4.0), (2.0, 9.0), (3.0, 4.0), (3.0, 5.0), (4.0, 6.0), (5.0, 6.0), (5.0, 7.0), (16.0, 17.0), (16.0, 12.0), (16.0, 14.0), (17.0, 21.0), (12.0, 11.0), (12.0, 13.0), (14.0, 11.0), (14.0, 15.0), (11.0, 10.0), (10.0, 9.0), (15.0, 18.0), (18.0, 19.0), (19.0, 20.0), (21.0, 22.0), (20.0, 23.0), (23.0, 22.0), (23.0, 24.0), (24.0, 25.0)])"
      ]
     },
     "execution_count": 44,
     "metadata": {},
     "output_type": "execute_result"
    }
   ],
   "source": [
    "croquis.edges()"
   ]
  },
  {
   "cell_type": "code",
   "execution_count": 45,
   "metadata": {},
   "outputs": [
    {
     "data": {
      "text/plain": [
       "25"
      ]
     },
     "execution_count": 45,
     "metadata": {},
     "output_type": "execute_result"
    }
   ],
   "source": [
    "croquis.order()"
   ]
  },
  {
   "cell_type": "code",
   "execution_count": 50,
   "metadata": {},
   "outputs": [
    {
     "name": "stdout",
     "output_type": "stream",
     "text": [
      "[3, 1.0, 2.0, 8.0]\n",
      "[2, 9.0, 10.0, 11.0]\n"
     ]
    }
   ],
   "source": [
    "resultado=nx.dijkstra_path(croquis,source=3,target=8,weight=True)\n",
    "resultado2=nx.dijkstra_path(croquis,source=2,target=11,weight=True)\n",
    "print(resultado)\n",
    "print(resultado2)"
   ]
  },
  {
   "cell_type": "code",
   "execution_count": 18,
   "metadata": {},
   "outputs": [],
   "source": [
    "edge_list = [\n",
    "    [-77.050948, -12.017963],\n",
    "    [-77.050493, -12.017464],\n",
    "]"
   ]
  },
  {
   "cell_type": "code",
   "execution_count": 19,
   "metadata": {},
   "outputs": [],
   "source": [
    "w = shapefile.Writer(target='./GIS-UNI/Capa de Ruta.shp')\n",
    "w.line([edge_list])\n",
    "w.field(\"id\",'C')\n",
    "w.record(\"Ruta_1\")\n",
    "w.close()"
   ]
  },
  {
   "cell_type": "code",
   "execution_count": 20,
   "metadata": {},
   "outputs": [],
   "source": [
    "def DistanciaRuta(array):\n",
    "    res = 0.0\n",
    "    for a in range(len(array)-1):  \n",
    "        filtered_df2 = disdf.query('(NODO_1 == '+str(int(array[a]))+'and NODO_2 == '+str(int(array[a+1]))+') or (NODO_1 == '+str(int(array[a+1]))+' and NODO_2 == '+str(int(array[a]))+')')\n",
    "        #filtered_df2 = filtered_df.query('NODO_2 == '+str(int(array[a+1]))+' or NODO_2 == '+str(int(array[a])))\n",
    "        aux = pd.DataFrame\n",
    "        aux = filtered_df2\n",
    "        res = res + aux.reset_index()['DISTANCIA'][0]\n",
    "        \n",
    "    return res"
   ]
  },
  {
   "cell_type": "code",
   "execution_count": 65,
   "metadata": {},
   "outputs": [],
   "source": [
    "def CalcularRutas(facultad):\n",
    "    res_list=[]\n",
    "    orden = 0\n",
    "    for f in range(16):\n",
    "        if facultad == facdf['FACULTAD'][orden]:\n",
    "            res = nx.dijkstra_path(croquis,source=1,target=facdf['NODO'][orden],weight=True)\n",
    "            res2=nx.dijkstra_path(croquis,source=25,target=facdf['NODO'][orden],weight=True)\n",
    "            res_list.append([5,res,DistanciaRuta(res)])\n",
    "            res_list.append([3,res2,DistanciaRuta(res2)])\n",
    "        orden = orden+1\n",
    "    return res_list\n",
    "            \n",
    "            "
   ]
  },
  {
   "cell_type": "code",
   "execution_count": 67,
   "metadata": {},
   "outputs": [
    {
     "name": "stdout",
     "output_type": "stream",
     "text": [
      "[[5, [1, 3.0, 5.0], 8.7130989935908], [3, [25, 24.0, 23.0, 20.0, 19.0, 18.0, 15.0, 14.0, 11.0, 10.0, 9.0, 2.0, 1.0, 3.0, 5.0], 55.0203391933764], [5, [1, 2.0, 4.0, 6.0], 13.52179292229282], [3, [25, 24.0, 23.0, 20.0, 19.0, 18.0, 15.0, 14.0, 11.0, 10.0, 9.0, 2.0, 4.0, 6.0], 45.843780229532314]]\n"
     ]
    }
   ],
   "source": [
    "print(CalcularRutas('FIIS'))"
   ]
  },
  {
   "cell_type": "code",
   "execution_count": 23,
   "metadata": {},
   "outputs": [],
   "source": [
    "def RutasMasOptimas(array):\n",
    "    restot=[]\n",
    "    res5=[]\n",
    "    res3=[]\n",
    "    aux5 = 100000\n",
    "    aux3 = 100000\n",
    "    for a in array:\n",
    "        if a[0] == 5:\n",
    "            if a[2] < aux5: \n",
    "                aux5 = a[2]\n",
    "                res5=a[1]\n",
    "        if a[0] == 3:\n",
    "            if a[2] < aux3: \n",
    "                aux3 = a[2]\n",
    "                res3=a[1]\n",
    "    restot.append(res5)\n",
    "    restot.append(res3)\n",
    "    return restot\n"
   ]
  },
  {
   "cell_type": "code",
   "execution_count": 24,
   "metadata": {},
   "outputs": [
    {
     "name": "stdout",
     "output_type": "stream",
     "text": [
      "[[1, 3.0, 5.0, 7.0], [25, 24.0, 23.0, 20.0, 19.0, 18.0, 15.0, 14.0, 11.0, 10.0, 9.0, 2.0, 1.0, 3.0, 5.0, 7.0]]\n"
     ]
    }
   ],
   "source": [
    "print(RutasMasOptimas(CalcularRutas('FIIS')))"
   ]
  },
  {
   "cell_type": "code",
   "execution_count": 25,
   "metadata": {},
   "outputs": [],
   "source": [
    "def GraficarRutas(array):\n",
    "    \n",
    "    \n",
    "    for a in range(len(array[0])):\n",
    "        array[0][a] = [df['COORDENADA_X'][array[0][a]-1],df['COORDENADA_Y'][array[0][a]-1]]\n",
    "    for b in range(len(array[1])):\n",
    "        array[1][b] = [df['COORDENADA_X'][array[1][b]-1],df['COORDENADA_Y'][array[1][b]-1]]\n",
    "    w = shapefile.Writer(target='./GIS-UNI/Capa de Ruta.shp')\n",
    "    w.line(array)\n",
    "    w.field(\"id\",'C')\n",
    "    w.record(\"Ruta_1\")\n",
    "    w.close()"
   ]
  },
  {
   "cell_type": "code",
   "execution_count": 26,
   "metadata": {},
   "outputs": [],
   "source": [
    "GraficarRutas(RutasMasOptimas(CalcularRutas('FIIS')))"
   ]
  },
  {
   "cell_type": "code",
   "execution_count": 118,
   "metadata": {},
   "outputs": [],
   "source": [
    "def graficoBarras(array):\n",
    "    etaux=[]\n",
    "    aux=False\n",
    "    etiquetas=[]\n",
    "    valores,valores2 = []\n",
    "    for i in array:\n",
    "        if len(etaux)>0:\n",
    "            for a in etaux:\n",
    "                if (i[1][len(i[1])-1] == a):\n",
    "                    aux=False\n",
    "                    break\n",
    "            \n",
    "                else:\n",
    "                    aux=True\n",
    "            if aux == True:\n",
    "                etaux.append(i[1][len(i[1])-1])\n",
    "                etiquetas.append('entrada '+str(len(etaux)))\n",
    "        else:\n",
    "            etaux.append(i[1][len(i[1])-1])\n",
    "            etiquetas.append('entrada '+str(len(etaux)))\n",
    "        if i[0]==5:\n",
    "            valores.append(i[2])\n",
    "        else:\n",
    "            valores2.append(i[2])\n",
    "\n",
    "        \n",
    "    co = np.arange(len(valores))\n",
    "    an = 0.3\n",
    "    fig, ax = plt.subplots()\n",
    "    ax.bar(co+an/2,valores,an,label='Puerta 5')\n",
    "    ax.bar(co-an/2,valores2,an,label='Puerta 3')\n",
    "\n",
    "    for i,j in zip(co,valores):\n",
    "        ax.annotate(j,xy=(i+0.01,j+0.15))\n",
    "    for i,j in zip(co,valores2):\n",
    "        ax.annotate(j,xy=(i-0.3,j+0.15))\n",
    "    ax.set_title('Grafico de Barras')\n",
    "    ax.set_ylabel('Distancia (m)')\n",
    "    ax.set_xticks(co)\n",
    "    ax.set_xticklabels(etiquetas)\n",
    "    plt.legend(loc='upper center')"
   ]
  },
  {
   "cell_type": "code",
   "execution_count": 121,
   "metadata": {},
   "outputs": [
    {
     "data": {
      "image/png": "[encoded data removed]",
      "text/plain": [
       "<Figure size 432x288 with 1 Axes>"
      ]
     },
     "metadata": {
      "needs_background": "light"
     },
     "output_type": "display_data"
    }
   ],
   "source": [
    "graficoBarras(CalcularRutas('FIIS'))\n"
   ]
  },
  {
   "cell_type": "code",
   "execution_count": null,
   "metadata": {},
   "outputs": [],
   "source": []
  }
 ],
 "metadata": {
  "kernelspec": {
   "display_name": "Python 3.10.4 64-bit",
   "language": "python",
   "name": "python3"
  },
  "language_info": {
   "codemirror_mode": {
    "name": "ipython",
    "version": 3
   },
   "file_extension": ".py",
   "mimetype": "text/x-python",
   "name": "python",
   "nbconvert_exporter": "python",
   "pygments_lexer": "ipython3",
   "version": "3.10.4"
  },
  "orig_nbformat": 4,
  "vscode": {
   "interpreter": {
    "hash": "27f6fea6f47ae512550f0b8facdbd035a93e1dd89633f7bf2dd00a2502c71d0d"
   }
  }
 },
 "nbformat": 4,
 "nbformat_minor": 2
}
